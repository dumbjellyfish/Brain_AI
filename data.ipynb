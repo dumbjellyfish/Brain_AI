{
 "cells": [
  {
   "cell_type": "code",
   "execution_count": 1,
   "metadata": {},
   "outputs": [
    {
     "name": "stderr",
     "output_type": "stream",
     "text": [
      "/Users/danielkim/opt/anaconda3/lib/python3.9/site-packages/scipy/__init__.py:155: UserWarning: A NumPy version >=1.18.5 and <1.25.0 is required for this version of SciPy (detected version 1.25.2\n",
      "  warnings.warn(f\"A NumPy version >={np_minversion} and <{np_maxversion}\"\n"
     ]
    }
   ],
   "source": [
    "import pandas\n",
    "import matplotlib\n",
    "import torch\n",
    "import torch.nn as nn\n",
    "import torch.nn.functional as F\n",
    "from torch.autograd import Variable\n",
    "# train test split\n",
    "from sklearn.model_selection import train_test_split"
   ]
  },
  {
   "cell_type": "code",
   "execution_count": 2,
   "metadata": {},
   "outputs": [],
   "source": [
    "data_directory = 'data/'\n",
    "data_file = 'emotions_labeled.csv'\n",
    "\n",
    "df = pandas.read_csv(data_directory + data_file)"
   ]
  },
  {
   "cell_type": "code",
   "execution_count": 3,
   "metadata": {},
   "outputs": [],
   "source": [
    "def clean_data(df):\n",
    "    df = df[[\"Delta Averaged\", \"Theta Averaged\", \"Alpha Averaged\", \"Beta Averaged\", \"Gamma Averaged\", \"Relaxed\", \"Time Averaged\", \"Funny/Happy\"]]\n",
    "    # rename columns\n",
    "    df = df.dropna()\n",
    "    # drop number index\n",
    "\n",
    "\n",
    "    df = df.rename(columns={\"Delta Averaged\": \"delta\", \"Theta Averaged\": \"theta\", \"Alpha Averaged\": \"alpha\", \"Beta Averaged\": \"beta\", \"Gamma Averaged\": \"gamma\", \"Relaxed\": \"relaxed\", \"Time Averaged\": \"time\", \"Funny/Happy\": \"happy\"})\n",
    "    \n",
    "    \n",
    "    return df"
   ]
  },
  {
   "cell_type": "code",
   "execution_count": 4,
   "metadata": {},
   "outputs": [],
   "source": [
    "import torch\n",
    "from torch.utils.data import Dataset\n",
    "\n",
    "class CustomDataset(Dataset):\n",
    "    def __init__(self, data, labels):\n",
    "        self.data = data\n",
    "        self.labels = labels\n",
    "\n",
    "    def __len__(self):\n",
    "        return len(self.data)\n",
    "\n",
    "    def __getitem__(self, idx):\n",
    "        sample = {\"input\": self.data[idx], \"label\": self.labels[idx]}\n",
    "        return sample"
   ]
  },
  {
   "cell_type": "code",
   "execution_count": 5,
   "metadata": {},
   "outputs": [
    {
     "data": {
      "text/html": [
       "<div>\n",
       "<style scoped>\n",
       "    .dataframe tbody tr th:only-of-type {\n",
       "        vertical-align: middle;\n",
       "    }\n",
       "\n",
       "    .dataframe tbody tr th {\n",
       "        vertical-align: top;\n",
       "    }\n",
       "\n",
       "    .dataframe thead th {\n",
       "        text-align: right;\n",
       "    }\n",
       "</style>\n",
       "<table border=\"1\" class=\"dataframe\">\n",
       "  <thead>\n",
       "    <tr style=\"text-align: right;\">\n",
       "      <th></th>\n",
       "      <th>delta</th>\n",
       "      <th>theta</th>\n",
       "      <th>alpha</th>\n",
       "      <th>beta</th>\n",
       "      <th>gamma</th>\n",
       "      <th>relaxed</th>\n",
       "      <th>time</th>\n",
       "      <th>happy</th>\n",
       "    </tr>\n",
       "  </thead>\n",
       "  <tbody>\n",
       "    <tr>\n",
       "      <th>0</th>\n",
       "      <td>0.049613</td>\n",
       "      <td>0.357985</td>\n",
       "      <td>0.190308</td>\n",
       "      <td>0.264495</td>\n",
       "      <td>0.137599</td>\n",
       "      <td>1</td>\n",
       "      <td>0.197205</td>\n",
       "      <td>0</td>\n",
       "    </tr>\n",
       "    <tr>\n",
       "      <th>1</th>\n",
       "      <td>0.050901</td>\n",
       "      <td>0.345767</td>\n",
       "      <td>0.190629</td>\n",
       "      <td>0.269995</td>\n",
       "      <td>0.142708</td>\n",
       "      <td>1</td>\n",
       "      <td>0.331969</td>\n",
       "      <td>0</td>\n",
       "    </tr>\n",
       "    <tr>\n",
       "      <th>2</th>\n",
       "      <td>0.050980</td>\n",
       "      <td>0.330472</td>\n",
       "      <td>0.198418</td>\n",
       "      <td>0.276494</td>\n",
       "      <td>0.143636</td>\n",
       "      <td>1</td>\n",
       "      <td>0.465711</td>\n",
       "      <td>0</td>\n",
       "    </tr>\n",
       "    <tr>\n",
       "      <th>3</th>\n",
       "      <td>0.049446</td>\n",
       "      <td>0.333421</td>\n",
       "      <td>0.207266</td>\n",
       "      <td>0.273468</td>\n",
       "      <td>0.136399</td>\n",
       "      <td>1</td>\n",
       "      <td>0.596464</td>\n",
       "      <td>0</td>\n",
       "    </tr>\n",
       "    <tr>\n",
       "      <th>4</th>\n",
       "      <td>0.047684</td>\n",
       "      <td>0.342692</td>\n",
       "      <td>0.215552</td>\n",
       "      <td>0.267410</td>\n",
       "      <td>0.126662</td>\n",
       "      <td>1</td>\n",
       "      <td>0.730908</td>\n",
       "      <td>0</td>\n",
       "    </tr>\n",
       "  </tbody>\n",
       "</table>\n",
       "</div>"
      ],
      "text/plain": [
       "      delta     theta     alpha      beta     gamma  relaxed      time  happy\n",
       "0  0.049613  0.357985  0.190308  0.264495  0.137599        1  0.197205      0\n",
       "1  0.050901  0.345767  0.190629  0.269995  0.142708        1  0.331969      0\n",
       "2  0.050980  0.330472  0.198418  0.276494  0.143636        1  0.465711      0\n",
       "3  0.049446  0.333421  0.207266  0.273468  0.136399        1  0.596464      0\n",
       "4  0.047684  0.342692  0.215552  0.267410  0.126662        1  0.730908      0"
      ]
     },
     "execution_count": 5,
     "metadata": {},
     "output_type": "execute_result"
    }
   ],
   "source": [
    "df = clean_data(df)\n",
    "df.head()   x"
   ]
  },
  {
   "cell_type": "code",
   "execution_count": 6,
   "metadata": {},
   "outputs": [
    {
     "data": {
      "text/plain": [
       "array([[<AxesSubplot:title={'center':'alpha'}>,\n",
       "        <AxesSubplot:title={'center':'beta'}>],\n",
       "       [<AxesSubplot:title={'center':'gamma'}>,\n",
       "        <AxesSubplot:title={'center':'theta'}>],\n",
       "       [<AxesSubplot:title={'center':'delta'}>, <AxesSubplot:>]],\n",
       "      dtype=object)"
      ]
     },
     "execution_count": 6,
     "metadata": {},
     "output_type": "execute_result"
    },
    {
     "data": {
      "image/png": "[encoded data removed]",
      "text/plain": [
       "<Figure size 640x480 with 6 Axes>"
      ]
     },
     "metadata": {},
     "output_type": "display_data"
    }
   ],
   "source": [
    "# plot distribution of delta frequency when relaxed is not true\n",
    "# df[['alpha', 'beta', 'gamma', 'theta', 'delta']].hist()\n",
    "\n",
    "# show each emotion's distribution of delta frequency\n",
    "df[df['relaxed'] == 1][['alpha', 'beta', 'gamma', 'theta', 'delta']].hist()\n"
   ]
  },
  {
   "cell_type": "code",
   "execution_count": 7,
   "metadata": {},
   "outputs": [
    {
     "data": {
      "text/plain": [
       "array([[<AxesSubplot:title={'center':'alpha'}>,\n",
       "        <AxesSubplot:title={'center':'beta'}>],\n",
       "       [<AxesSubplot:title={'center':'gamma'}>,\n",
       "        <AxesSubplot:title={'center':'theta'}>],\n",
       "       [<AxesSubplot:title={'center':'delta'}>, <AxesSubplot:>]],\n",
       "      dtype=object)"
      ]
     },
     "execution_count": 7,
     "metadata": {},
     "output_type": "execute_result"
    },
    {
     "data": {
      "image/png": "[encoded data removed]",
      "text/plain": [
       "<Figure size 640x480 with 6 Axes>"
      ]
     },
     "metadata": {},
     "output_type": "display_data"
    }
   ],
   "source": [
    "df[df['relaxed'] == 0][['alpha', 'beta', 'gamma', 'theta', 'delta']].hist()\n"
   ]
  },
  {
   "cell_type": "code",
   "execution_count": 8,
   "metadata": {},
   "outputs": [
    {
     "data": {
      "text/plain": [
       "alpha    0.146283\n",
       "beta     0.282120\n",
       "gamma    0.257669\n",
       "theta    0.279375\n",
       "delta    0.034552\n",
       "dtype: float64"
      ]
     },
     "execution_count": 8,
     "metadata": {},
     "output_type": "execute_result"
    }
   ],
   "source": [
    "# show average value of each frequency when relaxed is not true\n",
    "df[df.relaxed == False][['alpha', 'beta', 'gamma', 'theta', 'delta']].mean()"
   ]
  },
  {
   "cell_type": "code",
   "execution_count": 9,
   "metadata": {},
   "outputs": [
    {
     "data": {
      "text/plain": [
       "alpha    0.172499\n",
       "beta     0.271547\n",
       "gamma    0.191434\n",
       "theta    0.325404\n",
       "delta    0.039116\n",
       "dtype: float64"
      ]
     },
     "execution_count": 9,
     "metadata": {},
     "output_type": "execute_result"
    }
   ],
   "source": [
    "df[df.relaxed == True][['alpha', 'beta', 'gamma', 'theta', 'delta']].mean()"
   ]
  },
  {
   "cell_type": "code",
   "execution_count": 10,
   "metadata": {},
   "outputs": [],
   "source": [
    "# create train and test set from df\n",
    "\n",
    "# split into train and test\n",
    "train, test = train_test_split(df, test_size=0.2, random_state=42)\n",
    "# make index start from 0\n",
    "train.reset_index(drop=True, inplace=True)\n",
    "test.reset_index(drop=True, inplace=True)"
   ]
  },
  {
   "cell_type": "code",
   "execution_count": 11,
   "metadata": {},
   "outputs": [],
   "source": [
    "train_data = train[[\"theta\", \"beta\", \"gamma\"]].values  # Replace with your input features\n",
    "train_labels = train[\"relaxed\"].values  # Replace with your labels\n",
    "\n",
    "test_data = test[[\"theta\", \"beta\", \"gamma\"]].values  # Replace with your input features\n",
    "test_labels = test[\"relaxed\"].values  # Replace with your labels\n",
    "\n",
    "train_dataset = CustomDataset(train_data, train_labels)\n",
    "test_dataset = CustomDataset(test_data, test_labels)"
   ]
  },
  {
   "cell_type": "code",
   "execution_count": 12,
   "metadata": {},
   "outputs": [],
   "source": [
    "from torch.utils.data import DataLoader\n",
    "\n",
    "batch_size = 16  # Adjust this to your preference\n",
    "trainloader = DataLoader(train_dataset, batch_size=batch_size, shuffle=True, num_workers=0)\n",
    "testloader = DataLoader(test_dataset, batch_size=batch_size, shuffle=False, num_workers=0)\n",
    "\n"
   ]
  },
  {
   "cell_type": "code",
   "execution_count": 13,
   "metadata": {},
   "outputs": [
    {
     "data": {
      "text/plain": [
       "1    557\n",
       "0    196\n",
       "Name: relaxed, dtype: int64"
      ]
     },
     "execution_count": 13,
     "metadata": {},
     "output_type": "execute_result"
    }
   ],
   "source": [
    "# distribution of relaxed in test\n",
    "test.relaxed.value_counts()"
   ]
  },
  {
   "cell_type": "code",
   "execution_count": 16,
   "metadata": {},
   "outputs": [],
   "source": [
    "\n",
    "class Network(nn.Module):\n",
    "    def __init__(self):\n",
    "        super(Network, self).__init__()\n",
    "\n",
    "        # Define your layers in the __init__ method\n",
    "        self.fc1 = nn.Linear(3, 16)  # Example: Define your fully connected layer here\n",
    "        self.relu = nn.ReLU()  # Example: Activation function\n",
    "        self.fc2 = nn.Linear(16, 1)\n",
    "        self.sigmoid = nn.Sigmoid()\n",
    "\n",
    "\n",
    "\n",
    "    def forward(self, x):\n",
    "        # Define your forward pass in the forward method\n",
    "        x = self.fc1(x)\n",
    "        x = self.relu(x)\n",
    "        x = self.fc2(x)\n",
    "        x = self.sigmoid(x)\n",
    "        return x\n",
    "\n",
    "# Create the model\n",
    "model = Network()\n",
    "\n"
   ]
  },
  {
   "cell_type": "code",
   "execution_count": 17,
   "metadata": {},
   "outputs": [
    {
     "name": "stdout",
     "output_type": "stream",
     "text": [
      "Epoch: 1/40..  Training Loss: 0.741.. \n",
      "Epoch: 2/40..  Training Loss: 0.649.. \n",
      "Epoch: 3/40..  Training Loss: 0.613.. \n",
      "Epoch: 4/40..  Training Loss: 0.604.. \n",
      "Epoch: 5/40..  Training Loss: 0.600.. \n",
      "Epoch: 6/40..  Training Loss: 0.602.. \n",
      "Epoch: 7/40..  Training Loss: 0.596.. \n",
      "Epoch: 8/40..  Training Loss: 0.594.. \n",
      "Epoch: 9/40..  Training Loss: 0.594.. \n",
      "Epoch: 10/40..  Training Loss: 0.592.. \n",
      "Epoch: 11/40..  Training Loss: 0.590.. \n",
      "Epoch: 12/40..  Training Loss: 0.587.. \n",
      "Epoch: 13/40..  Training Loss: 0.587.. \n",
      "Epoch: 14/40..  Training Loss: 0.585.. \n",
      "Epoch: 15/40..  Training Loss: 0.585.. \n",
      "Epoch: 16/40..  Training Loss: 0.579.. \n",
      "Epoch: 17/40..  Training Loss: 0.580.. \n",
      "Epoch: 18/40..  Training Loss: 0.576.. \n",
      "Epoch: 19/40..  Training Loss: 0.577.. \n",
      "Epoch: 20/40..  Training Loss: 0.573.. \n",
      "Epoch: 21/40..  Training Loss: 0.572.. \n",
      "Epoch: 22/40..  Training Loss: 0.571.. \n",
      "Epoch: 23/40..  Training Loss: 0.572.. \n",
      "Epoch: 24/40..  Training Loss: 0.568.. \n",
      "Epoch: 25/40..  Training Loss: 0.570.. \n",
      "Epoch: 26/40..  Training Loss: 0.566.. \n",
      "Epoch: 27/40..  Training Loss: 0.565.. \n",
      "Epoch: 28/40..  Training Loss: 0.566.. \n",
      "Epoch: 29/40..  Training Loss: 0.566.. \n",
      "Epoch: 30/40..  Training Loss: 0.567.. \n",
      "Epoch: 31/40..  Training Loss: 0.564.. \n",
      "Epoch: 32/40..  Training Loss: 0.561.. \n",
      "Epoch: 33/40..  Training Loss: 0.560.. \n",
      "Epoch: 34/40..  Training Loss: 0.565.. \n",
      "Epoch: 35/40..  Training Loss: 0.560.. \n",
      "Epoch: 36/40..  Training Loss: 0.560.. \n",
      "Epoch: 37/40..  Training Loss: 0.559.. \n",
      "Epoch: 38/40..  Training Loss: 0.560.. \n",
      "Epoch: 39/40..  Training Loss: 0.559.. \n",
      "Epoch: 40/40..  Training Loss: 0.560.. \n"
     ]
    }
   ],
   "source": [
    "criterion = nn.BCELoss()\n",
    "optimizer = torch.optim.Adam(model.parameters(), lr=0.0005)\n",
    "\n",
    "input_columns = [\"alpha\", \"beta\", \"gamma\"]\n",
    "target_column = \"relaxed\"\n",
    "\n",
    "# Define batch size\n",
    "\n",
    "\n",
    "# Create a DataLoader using trainloader\n",
    "\n",
    "# Train network\n",
    "epochs = 40\n",
    "for e in range(epochs):\n",
    "    running_loss = 0\n",
    "    for batch in trainloader:\n",
    "\n",
    "        inputs = batch[\"input\"].to(torch.float32)\n",
    "        labels = batch[\"label\"].view(-1,1).float()\n",
    "        \n",
    "        \n",
    "        optimizer.zero_grad()\n",
    "\n",
    "        # Forward pass\n",
    "        outputs = model(inputs)\n",
    "\n",
    "        # Calculate the loss\n",
    "        loss = criterion(outputs, labels)\n",
    "\n",
    "        # Backpropagation and optimization\n",
    "        loss.backward()\n",
    "        optimizer.step()\n",
    "\n",
    "        # Print statistics\n",
    "        running_loss += loss.item()\n",
    "    else:\n",
    "        print(\"Epoch: {}/{}.. \".format(e + 1, epochs),\n",
    "              \"Training Loss: {:.3f}.. \".format(running_loss / len(trainloader)))"
   ]
  },
  {
   "cell_type": "code",
   "execution_count": 18,
   "metadata": {},
   "outputs": [
    {
     "name": "stdout",
     "output_type": "stream",
     "text": [
      "Accuracy: 75 %\n"
     ]
    }
   ],
   "source": [
    "# test network\n",
    "correct = 0\n",
    "total = 0\n",
    "\n",
    "predictions = []\n",
    "\n",
    "with torch.no_grad():\n",
    "    for i, row in test.iterrows():\n",
    "        labels = torch.tensor(\n",
    "            [row[target_column]], dtype=torch.float32\n",
    "        )  # Convert label to Tensor with shape [1]\n",
    "        inputs = torch.tensor(\n",
    "            row[input_columns].values, dtype=torch.float32\n",
    "        )  # Convert input features to Tensor\n",
    "\n",
    "        outputs = model(inputs)\n",
    "        predicted = torch.round(outputs.data)\n",
    "        predictions.append(predicted)\n",
    "        total += labels.size(0)\n",
    "        correct += (predicted == labels).sum().item()\n",
    "        \n",
    "print(\"Accuracy: %d %%\" % (100 * correct / total))\n"
   ]
  },
  {
   "cell_type": "code",
   "execution_count": 19,
   "metadata": {},
   "outputs": [
    {
     "name": "stderr",
     "output_type": "stream",
     "text": [
      "/Users/danielkim/opt/anaconda3/lib/python3.9/site-packages/seaborn/distributions.py:2619: FutureWarning: `distplot` is a deprecated function and will be removed in a future version. Please adapt your code to use either `displot` (a figure-level function with similar flexibility) or `histplot` (an axes-level function for histograms).\n",
      "  warnings.warn(msg, FutureWarning)\n",
      "/Users/danielkim/opt/anaconda3/lib/python3.9/site-packages/seaborn/distributions.py:2103: FutureWarning: The `axis` variable is no longer used and will be removed. Instead, assign variables directly to `x` or `y`.\n",
      "  warnings.warn(msg, FutureWarning)\n"
     ]
    },
    {
     "data": {
      "image/png": "[encoded data removed]",
      "text/plain": [
       "<Figure size 640x480 with 1 Axes>"
      ]
     },
     "metadata": {},
     "output_type": "display_data"
    }
   ],
   "source": [
    "import matplotlib.pyplot as plt\n",
    "from sklearn.metrics import confusion_matrix\n",
    "import numpy as np\n",
    "import seaborn as sns\n",
    "\n",
    "# show distribution of guesses from predictions\n",
    "predictions = np.array(predictions)\n",
    "sns.distplot(predictions, kde=False, rug=True);\n"
   ]
  },
  {
   "cell_type": "code",
   "execution_count": 20,
   "metadata": {},
   "outputs": [
    {
     "data": {
      "image/png": "[encoded data removed]",
      "text/plain": [
       "<Figure size 640x480 with 2 Axes>"
      ]
     },
     "metadata": {},
     "output_type": "display_data"
    }
   ],
   "source": [
    "# show confusion matrix with labels and percentages\n",
    "\n",
    "\n",
    "y_true = test[target_column]\n",
    "y_pred = predictions\n",
    "\n",
    "cm = confusion_matrix(y_true, y_pred)\n",
    "cm = cm.astype('float') / cm.sum(axis=1)[:, np.newaxis]\n",
    "sns.heatmap(cm, annot=True, cmap='Blues', xticklabels=['Not Relaxed', 'Relaxed'], yticklabels=['Not Relaxed', 'Relaxed'])\n",
    "plt.ylabel('True label')\n",
    "plt.xlabel('Predicted label')\n",
    "plt.title('Confusion matrix for emotion relaxed')\n",
    "plt.show()\n",
    "# label the confusion matrix\n",
    "\n",
    "\n"
   ]
  },
  {
   "cell_type": "code",
   "execution_count": 18,
   "metadata": {},
   "outputs": [],
   "source": [
    "\n",
    "\n",
    "# predict using this data"
   ]
  },
  {
   "cell_type": "code",
   "execution_count": null,
   "metadata": {},
   "outputs": [],
   "source": []
  }
 ],
 "metadata": {
  "kernelspec": {
   "display_name": "base",
   "language": "python",
   "name": "python3"
  },
  "language_info": {
   "codemirror_mode": {
    "name": "ipython",
    "version": 3
   },
   "file_extension": ".py",
   "mimetype": "text/x-python",
   "name": "python",
   "nbconvert_exporter": "python",
   "pygments_lexer": "ipython3",
   "version": "3.9.13"
  }
 },
 "nbformat": 4,
 "nbformat_minor": 2
}
